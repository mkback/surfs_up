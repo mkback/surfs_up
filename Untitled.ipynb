{
 "cells": [
  {
   "cell_type": "code",
   "execution_count": 1,
   "id": "69e88cee-7383-4350-b85f-6d31381803c9",
   "metadata": {},
   "outputs": [],
   "source": [
    "import datetime as dt"
   ]
  },
  {
   "cell_type": "code",
   "execution_count": 2,
   "id": "d592b955-bfb8-4caf-9731-3595d3f78ba1",
   "metadata": {},
   "outputs": [],
   "source": [
    "prev_year = dt.date(2017, 8, 23)"
   ]
  },
  {
   "cell_type": "code",
   "execution_count": 3,
   "id": "50522796-5d55-4323-ae64-f1aa14bf331c",
   "metadata": {},
   "outputs": [],
   "source": [
    "prev_year = dt.date(2017, 8, 23) - dt.timedelta(days=365)"
   ]
  },
  {
   "cell_type": "code",
   "execution_count": 4,
   "id": "babf943b-db8c-472d-a6c7-fa6377602c00",
   "metadata": {},
   "outputs": [
    {
     "data": {
      "text/plain": [
       "datetime.date(2016, 8, 23)"
      ]
     },
     "execution_count": 4,
     "metadata": {},
     "output_type": "execute_result"
    }
   ],
   "source": [
    "prev_year"
   ]
  },
  {
   "cell_type": "code",
   "execution_count": null,
   "id": "5710cab9-185d-462d-8e8d-1e0a47d343be",
   "metadata": {},
   "outputs": [],
   "source": []
  }
 ],
 "metadata": {
  "kernelspec": {
   "display_name": "PythonData",
   "language": "python",
   "name": "pythondata"
  },
  "language_info": {
   "codemirror_mode": {
    "name": "ipython",
    "version": 3
   },
   "file_extension": ".py",
   "mimetype": "text/x-python",
   "name": "python",
   "nbconvert_exporter": "python",
   "pygments_lexer": "ipython3",
   "version": "3.7.10"
  }
 },
 "nbformat": 4,
 "nbformat_minor": 5
}
